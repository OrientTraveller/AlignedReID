{
 "cells": [
  {
   "cell_type": "code",
   "execution_count": 12,
   "metadata": {},
   "outputs": [],
   "source": [
    "import torch\n",
    "import torchvision\n",
    "from torch import nn\n",
    "from torch.nn import functional as F\n",
    "from HorizontalMaxPool2d import HorizontalMaxPool2d\n",
    "from IPython import embed "
   ]
  },
  {
   "cell_type": "code",
   "execution_count": 44,
   "metadata": {},
   "outputs": [],
   "source": [
    "class ReIDNet(nn.Module):\n",
    "    def __init__(self, num_classes, loss={'softmax, metric'}, aligned=False,**kwargs):\n",
    "        super().__init__()\n",
    "        orinet=torchvision.models.alexnet(pretrained=True)\n",
    "        #print(orinet)\n",
    "        self.loss=loss\n",
    "        self.basenet=nn.Sequential(*list(orinet.children())[0:1])\n",
    "        #print(*list(orinet.children()))\n",
    "        #print(self.basenet)\n",
    "        self.linear=nn.Linear(256, 2048)\n",
    "        self.classifier=nn.Linear(2048, num_classes)\n",
    "        self.aligned=aligned\n",
    "        if self.aligned:\n",
    "            self.horizon_pool=HorizontalMaxPool2d()\n",
    "            self.bn=nn.BatchNorm2d(256)\n",
    "            self.relu=nn.ReLU(inplace=True)\n",
    "            self.conv1=nn.Conv2d(256,128,kernel_size=1,stride=1,padding=0,bias=True)\n",
    "    def forward(self, x):\n",
    "        x=self.basenet(x)\n",
    "        cnn_result=F.avg_pool2d(x, x.size()[2:])\n",
    "        cnn_result=cnn_result.view(x.size(0),-1)\n",
    "        f=self.linear(cnn_result)\n",
    "        #归一化\n",
    "        f=1.*f / (torch.norm(f,2,dim=-1, keepdim=True).expand_as(f)+1e-12)\n",
    "        #如果是用于测试，只返回feature张量\n",
    "        if not self.training:\n",
    "            return f\n",
    "        #如果使用Alinged分支，则加以计算local feature；如果不使用Alinged分支，则根据度量学习与表征学习分类\n",
    "        if self.aligned:\n",
    "            print(x.size())\n",
    "            lf=self.bn(x)\n",
    "            print('1:',lf.size())\n",
    "            lf=self.relu(lf)\n",
    "            print('2:',lf.size())\n",
    "            lf=self.horizon_pool(lf)\n",
    "            print('3:',lf.size())\n",
    "            lf=self.conv1(lf)\n",
    "            print('4:',lf.size())\n",
    "            y=self.classifier(f)\n",
    "            return y,f,lf\n",
    "        else:\n",
    "            if self.loss=={'softmax'}:\n",
    "                y=self.classifier(f)\n",
    "                return y\n",
    "            elif self.loss=={'metric'}:\n",
    "                return f\n",
    "            elif self.loss=={'softmax, metric'}:\n",
    "                y=self.classifier(f)\n",
    "                return y,f\n",
    "            else:\n",
    "                print('loss setting error')"
   ]
  },
  {
   "cell_type": "code",
   "execution_count": 45,
   "metadata": {},
   "outputs": [
    {
     "name": "stdout",
     "output_type": "stream",
     "text": [
      "torch.Size([32, 256, 3, 1])\n",
      "1: torch.Size([32, 256, 3, 1])\n",
      "2: torch.Size([32, 256, 3, 1])\n",
      "3: torch.Size([32, 256, 3, 1])\n",
      "4: torch.Size([32, 128, 3, 1])\n",
      "torch.Size([32, 751])\n",
      "torch.Size([32, 2048])\n",
      "torch.Size([32, 128, 3, 1])\n"
     ]
    }
   ],
   "source": [
    "if __name__=='__main__':\n",
    "    model=ReIDNet(num_classes=751,aligned=True)\n",
    "    imgs=torch.rand(32,3,128,64)\n",
    "    y,f,lf=model(imgs)\n",
    "    print(y.size())\n",
    "    print(f.size()) \n",
    "    print(lf.size())"
   ]
  },
  {
   "cell_type": "code",
   "execution_count": null,
   "metadata": {},
   "outputs": [],
   "source": []
  }
 ],
 "metadata": {
  "kernelspec": {
   "display_name": "Python 3",
   "language": "python",
   "name": "python3"
  },
  "language_info": {
   "codemirror_mode": {
    "name": "ipython",
    "version": 3
   },
   "file_extension": ".py",
   "mimetype": "text/x-python",
   "name": "python",
   "nbconvert_exporter": "python",
   "pygments_lexer": "ipython3",
   "version": "3.7.3"
  }
 },
 "nbformat": 4,
 "nbformat_minor": 4
}
