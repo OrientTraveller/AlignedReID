{
 "cells": [
  {
   "cell_type": "code",
   "execution_count": 1,
   "metadata": {},
   "outputs": [],
   "source": [
    "import os,sys,time,datetime\n",
    "import os.path as osp\n",
    "import numpy as np\n",
    "from IPython import embed"
   ]
  },
  {
   "cell_type": "code",
   "execution_count": 2,
   "metadata": {},
   "outputs": [],
   "source": [
    "import torch\n",
    "import torch.nn as nn\n",
    "from torch.utils.data import DataLoader\n",
    "from torch.optim import lr_scheduler"
   ]
  },
  {
   "cell_type": "code",
   "execution_count": 3,
   "metadata": {},
   "outputs": [],
   "source": [
    "from model.ReIDNet import ReIDNet\n",
    "from dataset_manager import Market1501\n",
    "from dataset_loader import ImageDataset\n",
    "from TriHard_Loss import TripletLoss\n",
    "from sampler import RandomIdentitySampler\n",
    "import transform as T"
   ]
  },
  {
   "cell_type": "code",
   "execution_count": 4,
   "metadata": {},
   "outputs": [],
   "source": [
    "#设定输入参数\n",
    "width=64                    #图片宽度\n",
    "height=128                 #图片高度\n",
    "train_batch_size=32  #训练批量\n",
    "test_batch_size=32  #测试批量\n",
    "train_lr=0.01                #学习率\n",
    "start_epoch=0           #开始训练的批次\n",
    "end_epoch=1                 #结束训练的批次\n",
    "dy_step_size=800      #动态学习率变化步长\n",
    "dy_step_gamma=0.9  #动态学习率变化倍数\n",
    "evaluate=False           #是否测试\n",
    "margin=0.3                 #TripletHard Loss计算的margin参数\n",
    "num_instances=4        #每个ID图片数，一定要能被batch_size整除\n",
    "max_acc=-1\n",
    "best_model_path='./model/param/trihard_net_params_best.pth'#最优模型保存地址\n",
    "final_model_path='./model/param/trihard_net_params_final.pth'#最终模型保存地址"
   ]
  },
  {
   "cell_type": "code",
   "execution_count": 5,
   "metadata": {},
   "outputs": [],
   "source": [
    "def main():\n",
    "    #数据集加载\n",
    "    dataset=Market1501()\n",
    "    #训练数据处理器\n",
    "    transform_train=T.Compose([\n",
    "        T.Random2DTransform(height,width),\n",
    "        T.RandomHorizontalFlip(),\n",
    "        T.ToTensor(),\n",
    "        T.Normalize(mean=[0.485, 0.456, 0.406], std=[0.229, 0.224, 0.225]),\n",
    "    ]\n",
    "    )\n",
    "    #测试数据处理器\n",
    "    transform_test=T.Compose([\n",
    "        T.Resize((height,width)),\n",
    "        T.ToTensor(),\n",
    "        T.Normalize(mean=[0.485, 0.456, 0.406], std=[0.229, 0.224, 0.225]),\n",
    "    ]\n",
    "    )\n",
    "    #train数据集吞吐器\n",
    "    train_data_loader=DataLoader(\n",
    "        ImageDataset(dataset.train, transform=transform_train),\n",
    "        sampler=RandomIdentitySampler(dataset.train, num_instances=num_instances),\n",
    "        batch_size=train_batch_size,\n",
    "        drop_last=True,\n",
    "    )\n",
    "    print(\"train_data_loader inited\")\n",
    "    #query数据集吞吐器\n",
    "    query_data_loader=DataLoader(\n",
    "        ImageDataset(dataset.query, transform=transform_test),\n",
    "        batch_size=test_batch_size,\n",
    "        shuffle=False,\n",
    "        drop_last=True,\n",
    "    )\n",
    "    print(\"query_data_loader inited\")\n",
    "    #gallery数据集吞吐器\n",
    "    gallery_data_loader=DataLoader(\n",
    "        ImageDataset(dataset.gallery, transform=transform_test),\n",
    "        batch_size=test_batch_size,\n",
    "        shuffle=False,\n",
    "        drop_last=True,\n",
    "    )\n",
    "    print(\"gallery_data_loader inited\\n\")\n",
    "    \n",
    "    #加载模型\n",
    "    model=ReIDNet(num_classes=751,loss={'softmax, metric'})#也可以只用softmax或只用metric\n",
    "    print(\"=>ReIDNet loaded\")\n",
    "    print(\"Model size: {:.5f}M\\n\".format(sum(p.numel() for p in model.parameters())/1000000.0))\n",
    "    \n",
    "    #损失函数\n",
    "    criterion_class=nn.CrossEntropyLoss()\n",
    "    criterion_metric=TripletLoss(margin=margin)\n",
    "    \n",
    "    #优化器\n",
    "    optimizer=torch.optim.SGD(model.parameters(),lr=train_lr,weight_decay=5e-04)\n",
    "    \n",
    "    #动态学习率\n",
    "    scheduler = lr_scheduler.ReduceLROnPlateau(optimizer, mode='min', factor=dy_step_gamma, patience=10, min_lr=0.0001)\n",
    "    \n",
    "    if evaluate:\n",
    "        test(model,query_data_loader,gallery_data_loader)\n",
    "        return 0\n",
    "    print('————model start training————\\n')\n",
    "    bt=time.time()\n",
    "    for epoch in range(start_epoch,end_epoch):\n",
    "        model.train(True)\n",
    "        train(epoch,model,criterion_class, criterion_metric, optimizer,scheduler,train_data_loader)\n",
    "    et=time.time()\n",
    "    print('**模型训练结束, 保存最终参数到{}**\\n'.format(final_model_path))\n",
    "    torch.save(model.state_dict(), final_model_path)\n",
    "    print('————训练总用时{:.2f}小时————'.format((et-bt)/3600.0))"
   ]
  },
  {
   "cell_type": "code",
   "execution_count": 6,
   "metadata": {},
   "outputs": [],
   "source": [
    "def train(epoch, model, criterion_class, criterion_metric, optimizer, scheduler, data_loader):\n",
    "    global max_acc\n",
    "    for batch_idx, (imgs, pids, cids) in enumerate(data_loader):\n",
    "        optimizer.zero_grad()\n",
    "        outputs, features=model(imgs)#当用了两种损失时，就有两个输出\n",
    "        xent_loss=criterion_class(outputs,pids)\n",
    "        metric_loss=criterion_metric(features, pids)\n",
    "        loss=xent_loss+metric_loss\n",
    "        loss.backward()\n",
    "        scheduler.step(loss)\n",
    "        optimizer.step()\n",
    "        pred = torch.argmax(outputs, 1)\n",
    "        current_acc=100*(pred == pids).sum().float()/len(pids)\n",
    "        if current_acc>max_acc:\n",
    "            max_acc=current_acc\n",
    "            print('**最高准确度更新为{}%，保存此模型到{}**\\n'.format(max_acc,best_model_path))\n",
    "            torch.save(model.state_dict(), best_model_path)\n",
    "        if batch_idx%20==0:\n",
    "            print('————————————————————————————————')\n",
    "            pred = torch.argmax(outputs, 1)\n",
    "            print('Epoch: {}, Batch: {}, Loss: {}'.format(epoch + 1, batch_idx, loss.data))\n",
    "            print('Current Accuracy: {:.2f}%'.format(100*(pred == pids).sum().float()/len(pids)))     \n",
    "            print('————————————————————————————————\\n')\n",
    "    return 0"
   ]
  },
  {
   "cell_type": "code",
   "execution_count": 7,
   "metadata": {},
   "outputs": [
    {
     "name": "stdout",
     "output_type": "stream",
     "text": [
      "=> Market1501 loaded\n",
      "------------------------------------------------------------------------\n",
      "  subset: train  \t| num_id:   751  \t|  num_imgs:   12936  \n",
      "  subset: query  \t| num_id:   750  \t|  num_imgs:    3368  \n",
      "  subset: gallery \t| num_id:   751  \t|  num_imgs:   19732  \n",
      "------------------------------------------------------------------------\n",
      "  total \t\t\t| num_id:  1501  \t|  num_imgs:   16304  \n",
      "------------------------------------------------------------------------\n"
     ]
    },
    {
     "ename": "TypeError",
     "evalue": "__init__() got an unexpected keyword argument 'transform'",
     "output_type": "error",
     "traceback": [
      "\u001b[1;31m---------------------------------------------------------------------------\u001b[0m",
      "\u001b[1;31mTypeError\u001b[0m                                 Traceback (most recent call last)",
      "\u001b[1;32m<ipython-input-7-263240bbee7e>\u001b[0m in \u001b[0;36m<module>\u001b[1;34m\u001b[0m\n\u001b[1;32m----> 1\u001b[1;33m \u001b[0mmain\u001b[0m\u001b[1;33m(\u001b[0m\u001b[1;33m)\u001b[0m\u001b[1;33m\u001b[0m\u001b[1;33m\u001b[0m\u001b[0m\n\u001b[0m",
      "\u001b[1;32m<ipython-input-5-b5550dc6c379>\u001b[0m in \u001b[0;36mmain\u001b[1;34m()\u001b[0m\n\u001b[0;32m     19\u001b[0m     \u001b[1;31m#train数据集吞吐器\u001b[0m\u001b[1;33m\u001b[0m\u001b[1;33m\u001b[0m\u001b[1;33m\u001b[0m\u001b[0m\n\u001b[0;32m     20\u001b[0m     train_data_loader=DataLoader(\n\u001b[1;32m---> 21\u001b[1;33m         \u001b[0mImageDataset\u001b[0m\u001b[1;33m(\u001b[0m\u001b[0mdataset\u001b[0m\u001b[1;33m.\u001b[0m\u001b[0mtrain\u001b[0m\u001b[1;33m,\u001b[0m \u001b[0mtransform\u001b[0m\u001b[1;33m=\u001b[0m\u001b[0mtransform_train\u001b[0m\u001b[1;33m)\u001b[0m\u001b[1;33m,\u001b[0m\u001b[1;33m\u001b[0m\u001b[1;33m\u001b[0m\u001b[0m\n\u001b[0m\u001b[0;32m     22\u001b[0m         \u001b[0msampler\u001b[0m\u001b[1;33m=\u001b[0m\u001b[0mRandomIdentitySampler\u001b[0m\u001b[1;33m(\u001b[0m\u001b[0mdataset\u001b[0m\u001b[1;33m.\u001b[0m\u001b[0mtrain\u001b[0m\u001b[1;33m,\u001b[0m \u001b[0mnum_instances\u001b[0m\u001b[1;33m=\u001b[0m\u001b[0mnum_instances\u001b[0m\u001b[1;33m)\u001b[0m\u001b[1;33m,\u001b[0m\u001b[1;33m\u001b[0m\u001b[1;33m\u001b[0m\u001b[0m\n\u001b[0;32m     23\u001b[0m         \u001b[0mbatch_size\u001b[0m\u001b[1;33m=\u001b[0m\u001b[0mtrain_batch_size\u001b[0m\u001b[1;33m,\u001b[0m\u001b[1;33m\u001b[0m\u001b[1;33m\u001b[0m\u001b[0m\n",
      "\u001b[1;31mTypeError\u001b[0m: __init__() got an unexpected keyword argument 'transform'"
     ]
    }
   ],
   "source": [
    "main()"
   ]
  },
  {
   "cell_type": "code",
   "execution_count": null,
   "metadata": {},
   "outputs": [],
   "source": [
    "\"\"\"\n",
    "model=ReIDNet(num_classes=751,loss='softmax')\n",
    "model.load_state_dict(torch.load('./model/net_params.pkl'))\n",
    "print(model)\n",
    "\n",
    "dataset=Market1501()\n",
    "#训练数据处理器\n",
    "transform_test=T.Compose([\n",
    "        T.Resize((height,width)),\n",
    "        T.ToTensor(),\n",
    "        T.Normalize(mean=[0.485, 0.456, 0.406], std=[0.229, 0.224, 0.225]),\n",
    "]\n",
    ")\n",
    "#train数据集吞吐器\n",
    "train_data_loader=DataLoader(\n",
    "    ImageDataset(dataset.train, transform=transform_test),\n",
    "    batch_size=train_batch_size,\n",
    "    drop_last=True,\n",
    ")\n",
    "correct=0\n",
    "total=0\n",
    "for batch_idx, (imgs, pids, cids) in enumerate(train_data_loader):\n",
    "    outputs=model(imgs)\n",
    "    pred = torch.argmax(outputs, 1)\n",
    "    correct += (pred == pids).sum().float()\n",
    "    total += len(pids)\n",
    "acc_str = 'Accuracy: %f'%((correct/total))\n",
    "print(acc_str)\n",
    "\"\"\""
   ]
  }
 ],
 "metadata": {
  "kernelspec": {
   "display_name": "Python 3",
   "language": "python",
   "name": "python3"
  },
  "language_info": {
   "codemirror_mode": {
    "name": "ipython",
    "version": 3
   },
   "file_extension": ".py",
   "mimetype": "text/x-python",
   "name": "python",
   "nbconvert_exporter": "python",
   "pygments_lexer": "ipython3",
   "version": "3.7.3"
  }
 },
 "nbformat": 4,
 "nbformat_minor": 4
}
