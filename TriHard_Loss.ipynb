{
 "cells": [
  {
   "cell_type": "code",
   "execution_count": 1,
   "metadata": {},
   "outputs": [],
   "source": [
    "import torch\n",
    "import torchvision\n",
    "from torch import nn\n",
    "from torch.nn import functional as F\n",
    "from IPython import embed"
   ]
  },
  {
   "cell_type": "code",
   "execution_count": 56,
   "metadata": {},
   "outputs": [],
   "source": [
    "class TripletLoss(nn.Module):\n",
    "    def __init__(self, margin=0.3):\n",
    "        super().__init__()\n",
    "        self.margin=margin\n",
    "        self.ranking_loss=nn.MarginRankingLoss(margin=margin)#计算三元组损失使用的函数\n",
    "        \n",
    "    def forward(self, inputs, targets):\n",
    "        n=inputs.size(0)\n",
    "        \"\"\"\n",
    "        计算图片之间的欧氏距离\n",
    "        矩阵A,B欧氏距离等于√(A^2 + (B^T)^2 - 2A(B^T))\n",
    "        \"\"\"\n",
    "        #计算A^2\n",
    "        distance=torch.pow(inputs,2).sum(dim=1, keepdim=True).expand(n,n)\n",
    "        #计算A^2 + (B^T)^2\n",
    "        distance=distance+distance.t()\n",
    "        #计算A^2 + (B^T)^2 - 2A(B^T)\n",
    "        distance.addmm(1,-2,inputs,inputs.t())\n",
    "        #计算√(A^2 + (B^T)^2 - 2A(B^T))\n",
    "        distance=distance.clamp(min=1e-12).sqrt()#该distance矩阵为对称矩阵\n",
    "        \n",
    "        print(distance)\n",
    "        \n",
    "        #获取对角线\n",
    "        mask=target.expand(n,n)==target.expand(n,n).t()#mask矩阵用于区分红绿色区域，即正样本区与负样本区，便于进行损失计算。\n",
    "        \n",
    "        distance_ap,distance_an=[],[]\n",
    "        for i in range(n):\n",
    "            print([mask[i]==0])\n",
    "            distance_ap.append(distance[i][mask[i]].max().unsqueeze(0))#distance[i][mask[i]]使distance保留正样本区\n",
    "            distance_an.append(distance[i][mask[i]==0].min().unsqueeze(0))#distance[i][mask[i]==0]使distance保留负样本区\n",
    "        #经过for循环后，正样本最大距离与负样本最小距离都存储在list当中，需要将list元素连接成一个torch张量\n",
    "        distance_ap=torch.cat(distance_ap)\n",
    "        distance_an=torch.cat(distance_an)\n",
    "        print(distance_an.size())\n",
    "        y=torch.ones_like(distance_an)\n",
    "        loss=self.ranking_loss(distance_an, distance_ap, y)\n",
    "        return loss"
   ]
  },
  {
   "cell_type": "code",
   "execution_count": 57,
   "metadata": {},
   "outputs": [
    {
     "name": "stdout",
     "output_type": "stream",
     "text": [
      "tensor([[36.9233, 36.8600, 37.0552,  ..., 36.8837, 37.3431, 37.0546],\n",
      "        [36.8600, 36.7966, 36.9921,  ..., 36.8203, 37.2805, 36.9916],\n",
      "        [37.0552, 36.9921, 37.1866,  ..., 37.0157, 37.4735, 37.1861],\n",
      "        ...,\n",
      "        [36.8837, 36.8203, 37.0157,  ..., 36.8440, 37.3039, 37.0152],\n",
      "        [37.3431, 37.2805, 37.4735,  ..., 37.3039, 37.7582, 37.4730],\n",
      "        [37.0546, 36.9916, 37.1861,  ..., 37.0152, 37.4730, 37.1855]])\n",
      "[tensor([0, 0, 0, 0, 1, 1, 1, 1, 1, 1, 1, 1, 1, 1, 1, 1, 1, 1, 1, 1, 1, 1, 1, 1,\n",
      "        1, 1, 1, 1, 1, 1, 1, 1], dtype=torch.uint8)]\n",
      "[tensor([0, 0, 0, 0, 1, 1, 1, 1, 1, 1, 1, 1, 1, 1, 1, 1, 1, 1, 1, 1, 1, 1, 1, 1,\n",
      "        1, 1, 1, 1, 1, 1, 1, 1], dtype=torch.uint8)]\n",
      "[tensor([0, 0, 0, 0, 1, 1, 1, 1, 1, 1, 1, 1, 1, 1, 1, 1, 1, 1, 1, 1, 1, 1, 1, 1,\n",
      "        1, 1, 1, 1, 1, 1, 1, 1], dtype=torch.uint8)]\n",
      "[tensor([0, 0, 0, 0, 1, 1, 1, 1, 1, 1, 1, 1, 1, 1, 1, 1, 1, 1, 1, 1, 1, 1, 1, 1,\n",
      "        1, 1, 1, 1, 1, 1, 1, 1], dtype=torch.uint8)]\n",
      "[tensor([1, 1, 1, 1, 0, 0, 0, 0, 1, 1, 1, 1, 1, 1, 1, 1, 1, 1, 1, 1, 1, 1, 1, 1,\n",
      "        1, 1, 1, 1, 1, 1, 1, 1], dtype=torch.uint8)]\n",
      "[tensor([1, 1, 1, 1, 0, 0, 0, 0, 1, 1, 1, 1, 1, 1, 1, 1, 1, 1, 1, 1, 1, 1, 1, 1,\n",
      "        1, 1, 1, 1, 1, 1, 1, 1], dtype=torch.uint8)]\n",
      "[tensor([1, 1, 1, 1, 0, 0, 0, 0, 1, 1, 1, 1, 1, 1, 1, 1, 1, 1, 1, 1, 1, 1, 1, 1,\n",
      "        1, 1, 1, 1, 1, 1, 1, 1], dtype=torch.uint8)]\n",
      "[tensor([1, 1, 1, 1, 0, 0, 0, 0, 1, 1, 1, 1, 1, 1, 1, 1, 1, 1, 1, 1, 1, 1, 1, 1,\n",
      "        1, 1, 1, 1, 1, 1, 1, 1], dtype=torch.uint8)]\n",
      "[tensor([1, 1, 1, 1, 1, 1, 1, 1, 0, 0, 0, 0, 1, 1, 1, 1, 1, 1, 1, 1, 1, 1, 1, 1,\n",
      "        1, 1, 1, 1, 1, 1, 1, 1], dtype=torch.uint8)]\n",
      "[tensor([1, 1, 1, 1, 1, 1, 1, 1, 0, 0, 0, 0, 1, 1, 1, 1, 1, 1, 1, 1, 1, 1, 1, 1,\n",
      "        1, 1, 1, 1, 1, 1, 1, 1], dtype=torch.uint8)]\n",
      "[tensor([1, 1, 1, 1, 1, 1, 1, 1, 0, 0, 0, 0, 1, 1, 1, 1, 1, 1, 1, 1, 1, 1, 1, 1,\n",
      "        1, 1, 1, 1, 1, 1, 1, 1], dtype=torch.uint8)]\n",
      "[tensor([1, 1, 1, 1, 1, 1, 1, 1, 0, 0, 0, 0, 1, 1, 1, 1, 1, 1, 1, 1, 1, 1, 1, 1,\n",
      "        1, 1, 1, 1, 1, 1, 1, 1], dtype=torch.uint8)]\n",
      "[tensor([1, 1, 1, 1, 1, 1, 1, 1, 1, 1, 1, 1, 0, 0, 0, 0, 1, 1, 1, 1, 1, 1, 1, 1,\n",
      "        1, 1, 1, 1, 1, 1, 1, 1], dtype=torch.uint8)]\n",
      "[tensor([1, 1, 1, 1, 1, 1, 1, 1, 1, 1, 1, 1, 0, 0, 0, 0, 1, 1, 1, 1, 1, 1, 1, 1,\n",
      "        1, 1, 1, 1, 1, 1, 1, 1], dtype=torch.uint8)]\n",
      "[tensor([1, 1, 1, 1, 1, 1, 1, 1, 1, 1, 1, 1, 0, 0, 0, 0, 1, 1, 1, 1, 1, 1, 1, 1,\n",
      "        1, 1, 1, 1, 1, 1, 1, 1], dtype=torch.uint8)]\n",
      "[tensor([1, 1, 1, 1, 1, 1, 1, 1, 1, 1, 1, 1, 0, 0, 0, 0, 1, 1, 1, 1, 1, 1, 1, 1,\n",
      "        1, 1, 1, 1, 1, 1, 1, 1], dtype=torch.uint8)]\n",
      "[tensor([1, 1, 1, 1, 1, 1, 1, 1, 1, 1, 1, 1, 1, 1, 1, 1, 0, 0, 0, 0, 1, 1, 1, 1,\n",
      "        1, 1, 1, 1, 1, 1, 1, 1], dtype=torch.uint8)]\n",
      "[tensor([1, 1, 1, 1, 1, 1, 1, 1, 1, 1, 1, 1, 1, 1, 1, 1, 0, 0, 0, 0, 1, 1, 1, 1,\n",
      "        1, 1, 1, 1, 1, 1, 1, 1], dtype=torch.uint8)]\n",
      "[tensor([1, 1, 1, 1, 1, 1, 1, 1, 1, 1, 1, 1, 1, 1, 1, 1, 0, 0, 0, 0, 1, 1, 1, 1,\n",
      "        1, 1, 1, 1, 1, 1, 1, 1], dtype=torch.uint8)]\n",
      "[tensor([1, 1, 1, 1, 1, 1, 1, 1, 1, 1, 1, 1, 1, 1, 1, 1, 0, 0, 0, 0, 1, 1, 1, 1,\n",
      "        1, 1, 1, 1, 1, 1, 1, 1], dtype=torch.uint8)]\n",
      "[tensor([1, 1, 1, 1, 1, 1, 1, 1, 1, 1, 1, 1, 1, 1, 1, 1, 1, 1, 1, 1, 0, 0, 0, 0,\n",
      "        1, 1, 1, 1, 1, 1, 1, 1], dtype=torch.uint8)]\n",
      "[tensor([1, 1, 1, 1, 1, 1, 1, 1, 1, 1, 1, 1, 1, 1, 1, 1, 1, 1, 1, 1, 0, 0, 0, 0,\n",
      "        1, 1, 1, 1, 1, 1, 1, 1], dtype=torch.uint8)]\n",
      "[tensor([1, 1, 1, 1, 1, 1, 1, 1, 1, 1, 1, 1, 1, 1, 1, 1, 1, 1, 1, 1, 0, 0, 0, 0,\n",
      "        1, 1, 1, 1, 1, 1, 1, 1], dtype=torch.uint8)]\n",
      "[tensor([1, 1, 1, 1, 1, 1, 1, 1, 1, 1, 1, 1, 1, 1, 1, 1, 1, 1, 1, 1, 0, 0, 0, 0,\n",
      "        1, 1, 1, 1, 1, 1, 1, 1], dtype=torch.uint8)]\n",
      "[tensor([1, 1, 1, 1, 1, 1, 1, 1, 1, 1, 1, 1, 1, 1, 1, 1, 1, 1, 1, 1, 1, 1, 1, 1,\n",
      "        0, 0, 0, 0, 1, 1, 1, 1], dtype=torch.uint8)]\n",
      "[tensor([1, 1, 1, 1, 1, 1, 1, 1, 1, 1, 1, 1, 1, 1, 1, 1, 1, 1, 1, 1, 1, 1, 1, 1,\n",
      "        0, 0, 0, 0, 1, 1, 1, 1], dtype=torch.uint8)]\n",
      "[tensor([1, 1, 1, 1, 1, 1, 1, 1, 1, 1, 1, 1, 1, 1, 1, 1, 1, 1, 1, 1, 1, 1, 1, 1,\n",
      "        0, 0, 0, 0, 1, 1, 1, 1], dtype=torch.uint8)]\n",
      "[tensor([1, 1, 1, 1, 1, 1, 1, 1, 1, 1, 1, 1, 1, 1, 1, 1, 1, 1, 1, 1, 1, 1, 1, 1,\n",
      "        0, 0, 0, 0, 1, 1, 1, 1], dtype=torch.uint8)]\n",
      "[tensor([1, 1, 1, 1, 1, 1, 1, 1, 1, 1, 1, 1, 1, 1, 1, 1, 1, 1, 1, 1, 1, 1, 1, 1,\n",
      "        1, 1, 1, 1, 0, 0, 0, 0], dtype=torch.uint8)]\n",
      "[tensor([1, 1, 1, 1, 1, 1, 1, 1, 1, 1, 1, 1, 1, 1, 1, 1, 1, 1, 1, 1, 1, 1, 1, 1,\n",
      "        1, 1, 1, 1, 0, 0, 0, 0], dtype=torch.uint8)]\n",
      "[tensor([1, 1, 1, 1, 1, 1, 1, 1, 1, 1, 1, 1, 1, 1, 1, 1, 1, 1, 1, 1, 1, 1, 1, 1,\n",
      "        1, 1, 1, 1, 0, 0, 0, 0], dtype=torch.uint8)]\n",
      "[tensor([1, 1, 1, 1, 1, 1, 1, 1, 1, 1, 1, 1, 1, 1, 1, 1, 1, 1, 1, 1, 1, 1, 1, 1,\n",
      "        1, 1, 1, 1, 0, 0, 0, 0], dtype=torch.uint8)]\n",
      "torch.Size([32])\n",
      "tensor(0.8345)\n"
     ]
    }
   ],
   "source": [
    "if __name__=='__main__':\n",
    "    target=[1,1,1,1,2,2,2,2,3,3,3,3,4,4,4,4,5,5,5,5,6,6,6,6,7,7,7,7,8,8,8,8]\n",
    "    target=torch.Tensor(target)\n",
    "    features=torch.rand(32,2048)\n",
    "    a=TripletLoss()\n",
    "    loss=a.forward(features,target)\n",
    "    print(loss)"
   ]
  },
  {
   "cell_type": "code",
   "execution_count": 51,
   "metadata": {},
   "outputs": [
    {
     "name": "stdout",
     "output_type": "stream",
     "text": [
      "tensor([0, 0, 1, 1], dtype=torch.uint8)\n"
     ]
    }
   ],
   "source": [
    "target=[1,1,0,0]\n",
    "target=torch.Tensor(target)\n",
    "print(target==0)"
   ]
  },
  {
   "cell_type": "code",
   "execution_count": null,
   "metadata": {},
   "outputs": [],
   "source": []
  },
  {
   "cell_type": "code",
   "execution_count": null,
   "metadata": {},
   "outputs": [],
   "source": []
  }
 ],
 "metadata": {
  "kernelspec": {
   "display_name": "Python 3",
   "language": "python",
   "name": "python3"
  },
  "language_info": {
   "codemirror_mode": {
    "name": "ipython",
    "version": 3
   },
   "file_extension": ".py",
   "mimetype": "text/x-python",
   "name": "python",
   "nbconvert_exporter": "python",
   "pygments_lexer": "ipython3",
   "version": "3.7.3"
  }
 },
 "nbformat": 4,
 "nbformat_minor": 4
}
