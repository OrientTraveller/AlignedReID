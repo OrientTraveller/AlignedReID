{
 "cells": [
  {
   "cell_type": "code",
   "execution_count": 3,
   "metadata": {},
   "outputs": [],
   "source": [
    "import torch\n",
    "import numpy as np\n",
    "from torch.utils.data.sampler import Sampler\n",
    "from collections import defaultdict\n",
    "from IPython import embed"
   ]
  },
  {
   "cell_type": "code",
   "execution_count": 4,
   "metadata": {},
   "outputs": [],
   "source": [
    "class RandomIdentitySampler(Sampler):\n",
    "    def __init__(self, data_source, num_instances=4):\n",
    "        self.data_source=data_source\n",
    "        self.num_instances=num_instances\n",
    "        self.index_dic= defaultdict(list)#改字典用于记录行人ID与其数据图片序号的对应关系\n",
    "        for index, (_,pid,_) in enumerate(data_source):\n",
    "            self.index_dic[pid].append(index)#将该行人ID对应的数据图片序号加入字典\n",
    "        self.pids=list(self.index_dic.keys())#获取行人ID列表\n",
    "        self.num_indentities=len(self.pids)\n",
    "    def __iter__(self):\n",
    "        indices=torch.randperm(self.num_indentities)#对行人ID打乱顺序重排\n",
    "        result=[]#result列表用于存储采样数据图片的序号\n",
    "        for i in indices:\n",
    "            #注意类型转换，字典的索引不能是Tensor类型\n",
    "            t=self.index_dic[int(i)]\n",
    "            #如果该pid拥有的图片少于num_instances，则可以重复采样\n",
    "            replace=False if len(t)>=self.num_instances else True\n",
    "            #采样\n",
    "            t=np.random.choice(t, size=self.num_instances, replace=replace)\n",
    "            result.extend(t)\n",
    "        #！！一定要返回result的迭代器，不能只返回result列表！！\n",
    "        return iter(result)\n",
    "    def __len__(self):\n",
    "        return self.num_instances*self.num_indentities"
   ]
  },
  {
   "cell_type": "code",
   "execution_count": 6,
   "metadata": {},
   "outputs": [
    {
     "name": "stdout",
     "output_type": "stream",
     "text": [
      "=> Market1501 loaded\n",
      "------------------------------------------------------------------------\n",
      "  subset: train  \t| num_id:   751  \t|  num_imgs:   12936  \n",
      "  subset: query  \t| num_id:   750  \t|  num_imgs:    3368  \n",
      "  subset: gallery \t| num_id:   751  \t|  num_imgs:   19732  \n",
      "------------------------------------------------------------------------\n",
      "  total \t\t\t| num_id:  1501  \t|  num_imgs:   16304  \n",
      "------------------------------------------------------------------------\n",
      "采样样本list的长度为3004\n"
     ]
    }
   ],
   "source": [
    "if __name__=='__main__':\n",
    "    from dataset_manager import Market1501\n",
    "    dataset=Market1501()\n",
    "    sampler=RandomIdentitySampler(dataset.train, num_instances=4)\n",
    "    print('采样样本list的长度为{}'.format(sampler.__len__()))"
   ]
  },
  {
   "cell_type": "code",
   "execution_count": null,
   "metadata": {},
   "outputs": [],
   "source": []
  }
 ],
 "metadata": {
  "kernelspec": {
   "display_name": "Python 3",
   "language": "python",
   "name": "python3"
  },
  "language_info": {
   "codemirror_mode": {
    "name": "ipython",
    "version": 3
   },
   "file_extension": ".py",
   "mimetype": "text/x-python",
   "name": "python",
   "nbconvert_exporter": "python",
   "pygments_lexer": "ipython3",
   "version": "3.7.3"
  }
 },
 "nbformat": 4,
 "nbformat_minor": 4
}
