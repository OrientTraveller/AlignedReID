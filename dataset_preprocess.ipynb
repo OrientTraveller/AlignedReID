{
 "cells": [
  {
   "cell_type": "code",
   "execution_count": 22,
   "metadata": {},
   "outputs": [],
   "source": [
    "import os\n",
    "import os.path as osp\n",
    "import glob\n",
    "import cv2\n",
    "from IPython import embed"
   ]
  },
  {
   "cell_type": "code",
   "execution_count": 23,
   "metadata": {},
   "outputs": [],
   "source": [
    "#指定数据集路径\n",
    "train_dataset_dir='data/test'\n",
    "# 使用opencv的hog特征进行行人检测\n",
    "detector = cv2.HOGDescriptor()\n",
    "detector.setSVMDetector(cv2.HOGDescriptor_getDefaultPeopleDetector())\n",
    "#获得数据集下图片地址集合\n",
    "img_paths=glob.glob(osp.join(train_dataset_dir,'*.jpg'))\n",
    "#开始进行检测处理\n",
    "for img_path in img_paths:\n",
    "    img = cv2.imread(img_path)#读取图片\n",
    "    #使用行人检测器检测，第一个结果是检测到的行人的坐标，第二个结果是每个行人的置信值\n",
    "    results,weights=detector.detectMultiScale(img,padding=(16,16))\n",
    "    if len(results)==0:\n",
    "        os.remove(img_path)"
   ]
  },
  {
   "cell_type": "code",
   "execution_count": null,
   "metadata": {},
   "outputs": [],
   "source": []
  }
 ],
 "metadata": {
  "kernelspec": {
   "display_name": "Python 3",
   "language": "python",
   "name": "python3"
  },
  "language_info": {
   "codemirror_mode": {
    "name": "ipython",
    "version": 3
   },
   "file_extension": ".py",
   "mimetype": "text/x-python",
   "name": "python",
   "nbconvert_exporter": "python",
   "pygments_lexer": "ipython3",
   "version": "3.7.3"
  }
 },
 "nbformat": 4,
 "nbformat_minor": 4
}
