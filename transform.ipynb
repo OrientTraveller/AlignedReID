{
 "cells": [
  {
   "cell_type": "code",
   "execution_count": 1,
   "metadata": {},
   "outputs": [],
   "source": [
    "from torchvision.transforms import *\n",
    "from PIL import Image\n",
    "import random\n",
    "import numpy as np\n",
    "import matplotlib.pyplot as plt\n",
    "import os\n",
    "os.environ[\"KMP_DUPLICATE_LIB_OK\"]=\"TRUE\""
   ]
  },
  {
   "cell_type": "code",
   "execution_count": 3,
   "metadata": {},
   "outputs": [
    {
     "name": "stdout",
     "output_type": "stream",
     "text": [
      "=> Market1501 loaded\n",
      "------------------------------------------------------------------------\n",
      "  subset: train  \t| num_id:   751  \t|  num_imgs:   12936  \n",
      "  subset: query  \t| num_id:   750  \t|  num_imgs:    3368  \n",
      "  subset: gallery \t| num_id:   751  \t|  num_imgs:   19732  \n",
      "------------------------------------------------------------------------\n",
      "  total \t\t\t| num_id:  1501  \t|  num_imgs:   16304  \n",
      "------------------------------------------------------------------------\n"
     ]
    },
    {
     "ename": "AttributeError",
     "evalue": "'Random2DTransform' object has no attribute 'RandomHorizontalFlip'",
     "output_type": "error",
     "traceback": [
      "\u001b[1;31m---------------------------------------------------------------------------\u001b[0m",
      "\u001b[1;31mAttributeError\u001b[0m                            Traceback (most recent call last)",
      "\u001b[1;32m<ipython-input-3-021d8c96827d>\u001b[0m in \u001b[0;36m<module>\u001b[1;34m\u001b[0m\n\u001b[0;32m     30\u001b[0m         \u001b[1;32mif\u001b[0m\u001b[1;33m(\u001b[0m\u001b[0mbatch_id\u001b[0m\u001b[1;33m<\u001b[0m\u001b[1;36m3\u001b[0m\u001b[1;33m)\u001b[0m\u001b[1;33m:\u001b[0m\u001b[1;33m\u001b[0m\u001b[1;33m\u001b[0m\u001b[0m\n\u001b[0;32m     31\u001b[0m             \u001b[0mtransform\u001b[0m\u001b[1;33m=\u001b[0m\u001b[0mRandom2DTransform\u001b[0m\u001b[1;33m(\u001b[0m\u001b[1;36m64\u001b[0m\u001b[1;33m,\u001b[0m\u001b[1;36m64\u001b[0m\u001b[1;33m,\u001b[0m\u001b[1;36m0.5\u001b[0m\u001b[1;33m)\u001b[0m\u001b[1;33m\u001b[0m\u001b[1;33m\u001b[0m\u001b[0m\n\u001b[1;32m---> 32\u001b[1;33m             \u001b[0mprint\u001b[0m\u001b[1;33m(\u001b[0m\u001b[0mtype\u001b[0m\u001b[1;33m(\u001b[0m\u001b[0mtransform\u001b[0m\u001b[1;33m.\u001b[0m\u001b[0mRandomHorizontalFlip\u001b[0m\u001b[1;33m(\u001b[0m\u001b[1;33m)\u001b[0m\u001b[1;33m)\u001b[0m\u001b[1;33m)\u001b[0m\u001b[1;33m\u001b[0m\u001b[1;33m\u001b[0m\u001b[0m\n\u001b[0m\u001b[0;32m     33\u001b[0m             \u001b[0mimg_t\u001b[0m\u001b[1;33m=\u001b[0m\u001b[0mtransform\u001b[0m\u001b[1;33m(\u001b[0m\u001b[0mimg\u001b[0m\u001b[1;33m)\u001b[0m\u001b[1;33m\u001b[0m\u001b[1;33m\u001b[0m\u001b[0m\n\u001b[0;32m     34\u001b[0m             \u001b[0mimg_t\u001b[0m\u001b[1;33m=\u001b[0m\u001b[0mnp\u001b[0m\u001b[1;33m.\u001b[0m\u001b[0marray\u001b[0m\u001b[1;33m(\u001b[0m\u001b[0mimg_t\u001b[0m\u001b[1;33m)\u001b[0m\u001b[1;33m\u001b[0m\u001b[1;33m\u001b[0m\u001b[0m\n",
      "\u001b[1;31mAttributeError\u001b[0m: 'Random2DTransform' object has no attribute 'RandomHorizontalFlip'"
     ]
    },
    {
     "data": {
      "text/plain": [
       "<Figure size 432x288 with 0 Axes>"
      ]
     },
     "metadata": {},
     "output_type": "display_data"
    }
   ],
   "source": [
    "class Random2DTransform(object):\n",
    "    def __init__(self, height, width, p=0.5, interpolation=Image.BILINEAR):\n",
    "        self.height=height\n",
    "        self.width=width\n",
    "        self.p=p\n",
    "        self.interpolation=interpolation\n",
    "        \n",
    "    def __call__(self, img):\n",
    "        if random.random() < self.p:\n",
    "            img=img.resize((self.width, self.height), self.interpolation)\n",
    "        else:\n",
    "            new_width=int(round(self.width*1.125))\n",
    "            new_height=int(round(self.height*1.125))\n",
    "            resize_img=img.resize((new_width, new_height), self.interpolation)\n",
    "            x_maxrange=new_width-self.width\n",
    "            y_maxrange=new_height-self.height\n",
    "            x_start=int(round(random.uniform(0,x_maxrange)))\n",
    "            y_start=int(round(random.uniform(0,y_maxrange)))\n",
    "            img=resize_img.crop((x_start, y_start, x_start+self.width, y_start+self.height))\n",
    "        return img\n",
    "    \n",
    "if __name__=='__main__':\n",
    "    from dataset_manager import Market1501\n",
    "    from dataset_loader import ImageDataset\n",
    "    dataset=Market1501()\n",
    "    train_loader=ImageDataset(dataset.train)\n",
    "    plt.figure()\n",
    "    j=1\n",
    "    for batch_id, (img, pid, cid) in enumerate(train_loader):\n",
    "        if(batch_id<3):  \n",
    "            transform=Random2DTransform(64,64,0.5)\n",
    "            print(type(transform.RandomHorizontalFlip()))\n",
    "            img_t=transform(img)\n",
    "            img_t=np.array(img_t)\n",
    "            plt.subplot(1,2,j)\n",
    "            plt.imshow(img) # 显示图片\n",
    "            j=j+1\n",
    "            plt.subplot(1,2,j)\n",
    "            plt.imshow(img_t) # 显示图片\n",
    "            plt.show()\n",
    "            j=1"
   ]
  },
  {
   "cell_type": "code",
   "execution_count": null,
   "metadata": {},
   "outputs": [],
   "source": []
  }
 ],
 "metadata": {
  "kernelspec": {
   "display_name": "Python 3",
   "language": "python",
   "name": "python3"
  },
  "language_info": {
   "codemirror_mode": {
    "name": "ipython",
    "version": 3
   },
   "file_extension": ".py",
   "mimetype": "text/x-python",
   "name": "python",
   "nbconvert_exporter": "python",
   "pygments_lexer": "ipython3",
   "version": "3.7.3"
  }
 },
 "nbformat": 4,
 "nbformat_minor": 4
}
