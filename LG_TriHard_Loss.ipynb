{
 "cells": [
  {
   "cell_type": "code",
   "execution_count": 2,
   "metadata": {},
   "outputs": [],
   "source": [
    "import torch\n",
    "import torchvision\n",
    "from torch import nn\n",
    "from torch.nn import functional as F\n",
    "from IPython import embed\n",
    "from local_distance import batch_local_dist\n",
    "from hard_example_mining import hard_example_mining"
   ]
  },
  {
   "cell_type": "code",
   "execution_count": 3,
   "metadata": {},
   "outputs": [],
   "source": [
    "class AlignedTripletLoss(nn.Module):\n",
    "    def __init__(self, margin=0.3):\n",
    "        super().__init__()\n",
    "        self.margin=margin\n",
    "        self.ranking_loss=nn.MarginRankingLoss(margin=margin)\n",
    "        \n",
    "    def forward(self, inputs, local_features, targets):\n",
    "        n=inputs.size(0)\n",
    "        local_features=local_features.squeeze()\n",
    "        distance=torch.pow(inputs,2).sum(dim=1, keepdim=True).expand(n,n)\n",
    "        distance=distance+distance.t()\n",
    "        #下式等于distance-2inputs*inputs.T\n",
    "        distance.addmm(1,-2,inputs,inputs.t())\n",
    "        distance=distance.clamp(min=1e-12).sqrt()\n",
    "        #获取正负样本对距离，使用最短路径算法\n",
    "        dist_ap,dist_an,p_inds,n_inds=hard_example_mining(distance,targets,return_inds=True)\n",
    "        p_inds,n_inds=p_inds.long(),n_inds.long()\n",
    "        #print(local_features.size())\n",
    "        #local_features=local_features.permute(0,2,1)\n",
    "        \n",
    "        p_local_features=local_features[p_inds]\n",
    "        n_local_features=local_features[n_inds]\n",
    "        local_dist_ap=batch_local_dist(local_features,p_local_features)\n",
    "        local_dist_an=batch_local_dist(local_features,n_local_features)\n",
    "        print(local_dist_an.size())\n",
    "        \n",
    "        y=torch.ones_like(dist_an)\n",
    "        global_loss=self.ranking_loss(dist_an, dist_ap, y)\n",
    "        local_loss=self.ranking_loss(local_dist_an,local_dist_ap,y)\n",
    "        \n",
    "        return global_loss, local_loss"
   ]
  },
  {
   "cell_type": "code",
   "execution_count": 5,
   "metadata": {},
   "outputs": [
    {
     "name": "stdout",
     "output_type": "stream",
     "text": [
      "torch.Size([32])\n",
      "tensor(0.9207)\n",
      "tensor(4.1440)\n"
     ]
    }
   ],
   "source": [
    "if __name__=='__main__':\n",
    "    target=[1,1,1,1,2,2,2,2,3,3,3,3,4,4,4,4,5,5,5,5,6,6,6,6,7,7,7,7,8,8,8,8]\n",
    "    target=torch.Tensor(target)\n",
    "    features=torch.rand(32,2048)\n",
    "    local_features=torch.randn(32,128,3,1)\n",
    "    a=AlignedTripletLoss()\n",
    "    g_loss, l_loss=a.forward(features, local_features, target)\n",
    "    print(g_loss)\n",
    "    print(l_loss)"
   ]
  },
  {
   "cell_type": "code",
   "execution_count": null,
   "metadata": {},
   "outputs": [],
   "source": []
  }
 ],
 "metadata": {
  "kernelspec": {
   "display_name": "Python 3",
   "language": "python",
   "name": "python3"
  },
  "language_info": {
   "codemirror_mode": {
    "name": "ipython",
    "version": 3
   },
   "file_extension": ".py",
   "mimetype": "text/x-python",
   "name": "python",
   "nbconvert_exporter": "python",
   "pygments_lexer": "ipython3",
   "version": "3.7.3"
  }
 },
 "nbformat": 4,
 "nbformat_minor": 4
}
